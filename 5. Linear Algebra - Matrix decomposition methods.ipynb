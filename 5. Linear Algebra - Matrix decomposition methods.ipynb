{
 "cells": [
  {
   "cell_type": "markdown",
   "id": "0df0354a",
   "metadata": {},
   "source": [
    "# Assignment 5 - Matrix Decomposition Method\n",
    "\n",
    "## Overview\n",
    "1. Implement matrix decomposition method to decompose matrices\n",
    "- Method of decomposition: Doolittle, Crout, Cholesky, $LDL^{T}$, and Singular Value Decomposition (SVD)\n",
    "2. Solve linear equation via decomposed matrices to see the improvement in performance"
   ]
  },
  {
   "cell_type": "code",
   "execution_count": 1,
   "id": "700777ab",
   "metadata": {},
   "outputs": [],
   "source": [
    "import numpy as np"
   ]
  },
  {
   "cell_type": "markdown",
   "id": "278f602c",
   "metadata": {},
   "source": [
    "## Q1"
   ]
  },
  {
   "cell_type": "code",
   "execution_count": 2,
   "id": "f8e68eba",
   "metadata": {},
   "outputs": [],
   "source": [
    "M1 = np.array([[4, 0, 0, 0],\n",
    "               [6, 7, 0, 0],\n",
    "               [9, 11, 1, 0],\n",
    "               [5, 4, 1, 1]])"
   ]
  },
  {
   "cell_type": "code",
   "execution_count": 3,
   "id": "d12454cb",
   "metadata": {},
   "outputs": [],
   "source": [
    "M2 = np.array([[2, 3, 1, 2],\n",
    "               [-2, 4, -1, 5],\n",
    "               [3, 7, 1.5, 1],\n",
    "               [6, -9, 3, 7]])"
   ]
  },
  {
   "cell_type": "markdown",
   "id": "0b562f79",
   "metadata": {},
   "source": [
    "#### a) Check Symmetry"
   ]
  },
  {
   "cell_type": "code",
   "execution_count": 4,
   "id": "d6ccde99",
   "metadata": {},
   "outputs": [],
   "source": [
    "def if_symmetric(A):\n",
    "    return (A == (A.T)).all()"
   ]
  },
  {
   "cell_type": "code",
   "execution_count": 5,
   "id": "340a015a",
   "metadata": {},
   "outputs": [
    {
     "data": {
      "text/plain": [
       "False"
      ]
     },
     "execution_count": 5,
     "metadata": {},
     "output_type": "execute_result"
    }
   ],
   "source": [
    "if_symmetric(M1)"
   ]
  },
  {
   "cell_type": "code",
   "execution_count": 6,
   "id": "7c39ac95",
   "metadata": {},
   "outputs": [
    {
     "data": {
      "text/plain": [
       "False"
      ]
     },
     "execution_count": 6,
     "metadata": {},
     "output_type": "execute_result"
    }
   ],
   "source": [
    "if_symmetric(M2)"
   ]
  },
  {
   "cell_type": "markdown",
   "id": "125e5ac3",
   "metadata": {},
   "source": [
    "Both matrices are not symmetric"
   ]
  },
  {
   "cell_type": "markdown",
   "id": "1137eac9",
   "metadata": {},
   "source": [
    "#### b) Check Singularity"
   ]
  },
  {
   "cell_type": "code",
   "execution_count": 7,
   "id": "44085ba8",
   "metadata": {},
   "outputs": [],
   "source": [
    "def if_singular(A):\n",
    "    return np.linalg.det(A) == 0"
   ]
  },
  {
   "cell_type": "code",
   "execution_count": 8,
   "id": "fb6eac59",
   "metadata": {},
   "outputs": [
    {
     "data": {
      "text/plain": [
       "False"
      ]
     },
     "execution_count": 8,
     "metadata": {},
     "output_type": "execute_result"
    }
   ],
   "source": [
    "if_singular(M1)"
   ]
  },
  {
   "cell_type": "code",
   "execution_count": 9,
   "id": "473d3aff",
   "metadata": {},
   "outputs": [
    {
     "data": {
      "text/plain": [
       "False"
      ]
     },
     "execution_count": 9,
     "metadata": {},
     "output_type": "execute_result"
    }
   ],
   "source": [
    "if_singular(M2)"
   ]
  },
  {
   "cell_type": "markdown",
   "id": "ad5bbe3e",
   "metadata": {},
   "source": [
    "Both matrices are not singular"
   ]
  },
  {
   "cell_type": "markdown",
   "id": "2dba75a5",
   "metadata": {},
   "source": [
    "#### c) Check Positive Definite"
   ]
  },
  {
   "cell_type": "code",
   "execution_count": 10,
   "id": "1df4ab5c",
   "metadata": {},
   "outputs": [],
   "source": [
    "def if_posdef(A):\n",
    "    \n",
    "    n = A.shape[0]\n",
    "    #(1) Check symmetry\n",
    "    if (A != A.T).any():\n",
    "        print('The matrix is not symmetric')\n",
    "        return False\n",
    "    \n",
    "    #Leading principle submatrix of A\n",
    "    for k in range(1, n+1):\n",
    "        if np.linalg.det(A[:k, :k]) <= 0:\n",
    "            print('Determinant of the leading principle submatrix is not positive')\n",
    "            return False\n",
    "    return True        "
   ]
  },
  {
   "cell_type": "code",
   "execution_count": 11,
   "id": "8131a763",
   "metadata": {},
   "outputs": [
    {
     "name": "stdout",
     "output_type": "stream",
     "text": [
      "The matrix is not symmetric\n"
     ]
    },
    {
     "data": {
      "text/plain": [
       "False"
      ]
     },
     "execution_count": 11,
     "metadata": {},
     "output_type": "execute_result"
    }
   ],
   "source": [
    "if_posdef(M1)"
   ]
  },
  {
   "cell_type": "code",
   "execution_count": 12,
   "id": "b046f962",
   "metadata": {},
   "outputs": [
    {
     "name": "stdout",
     "output_type": "stream",
     "text": [
      "The matrix is not symmetric\n"
     ]
    },
    {
     "data": {
      "text/plain": [
       "False"
      ]
     },
     "execution_count": 12,
     "metadata": {},
     "output_type": "execute_result"
    }
   ],
   "source": [
    "if_posdef(M2)"
   ]
  },
  {
   "cell_type": "markdown",
   "id": "3b891f2e",
   "metadata": {},
   "source": [
    "Both matrices are not positive definite"
   ]
  },
  {
   "cell_type": "markdown",
   "id": "aa87613e",
   "metadata": {},
   "source": [
    "---"
   ]
  },
  {
   "cell_type": "markdown",
   "id": "5b49415f",
   "metadata": {},
   "source": [
    "## Q2 - Matrix Factorization"
   ]
  },
  {
   "cell_type": "markdown",
   "id": "c6f9ee40",
   "metadata": {},
   "source": [
    "### 1. Factorization"
   ]
  },
  {
   "cell_type": "markdown",
   "id": "ed5542f6",
   "metadata": {},
   "source": [
    "#### 1.1 $LDL^T$ Factorization"
   ]
  },
  {
   "cell_type": "code",
   "execution_count": 13,
   "id": "7f014e10",
   "metadata": {},
   "outputs": [],
   "source": [
    "def LDLt(A):\n",
    "    \"\"\"\n",
    "    Arguments:\n",
    "    - A [array] to be factorized, shape (n, n)\n",
    "    Return:\n",
    "    - L [array] Lower triangular matrix of shape (n,n)\n",
    "    - D [array] Diagonal matrix of shape (n,n)\n",
    "    \"\"\"\n",
    "    \n",
    "    n = A.shape[0]\n",
    "    \n",
    "    #Initialize L and D\n",
    "    L = np.zeros((n,n))\n",
    "    D = np.zeros((n,n))\n",
    "    d = np.zeros(n)\n",
    "    \n",
    "    #Diagonal of L\n",
    "    np.fill_diagonal(L, 1)\n",
    "    \n",
    "    for i in range(n):\n",
    "        #(1)\n",
    "        sumLij_wj = 0\n",
    "        for j in range(i):\n",
    "            wj = L[i, j]*d[j]\n",
    "            sumLij_wj += L[i,j]*wj\n",
    "        \n",
    "        #(2) Get diagonal entries of D\n",
    "        d[i] = A[i,i] - sumLij_wj\n",
    "        \n",
    "        #(3) Get entries of L (not in diagonal)\n",
    "        \n",
    "        for j in range(i+1, n):\n",
    "            sumLjk_wk = 0\n",
    "            for k in range(i):\n",
    "                wk = L[j-1, k]*d[k]\n",
    "                sumLjk_wk += L[j, k] * wk\n",
    "            \n",
    "            L[j, i] = (A[j, i] - sumLjk_wk)/d[i]\n",
    "    \n",
    "    np.fill_diagonal(D, d)\n",
    "    \n",
    "    return L, D\n",
    "    "
   ]
  },
  {
   "cell_type": "markdown",
   "id": "48d05278",
   "metadata": {},
   "source": [
    "#### 1.2. Cholesky Factorization"
   ]
  },
  {
   "cell_type": "code",
   "execution_count": 14,
   "id": "c34c334f",
   "metadata": {},
   "outputs": [],
   "source": [
    "def Cholesky(A):\n",
    "    \n",
    "    if if_posdef(A) == False:\n",
    "        raise Exception(\"Input matrix must be positive definite\")\n",
    "    \n",
    "    n = A.shape[0]\n",
    "    \n",
    "    #Initialize L\n",
    "    L = np.zeros((n,n))\n",
    "    \n",
    "    #(1) l11\n",
    "    L[0, 0] = np.sqrt(A[0, 0])\n",
    "    \n",
    "    #(2) First column of L\n",
    "    for j in range(1, n):\n",
    "        L[j, 0] = A[j, 0]/L[0,0]\n",
    "        \n",
    "    for i in range(n-1):\n",
    "        #(3.1) Diagonal entries of L\n",
    "        sumLik_sq = 0\n",
    "        for k in range(i):\n",
    "            sumLik_sq += L[i, k]**2\n",
    "        L[i,i] = np.sqrt((A[i,i] - sumLik_sq))\n",
    "        \n",
    "        #(3.2)\n",
    "        for j in range(i+1, n):\n",
    "            sumLjk_Lik = 0\n",
    "            for k in range(i):\n",
    "                sumLjk_Lik += L[j, k]*L[i,k]\n",
    "            L[j, i] = (A[j, i] - sumLjk_Lik)/L[i, i]\n",
    "        \n",
    "    \n",
    "    #(4) Last entry\n",
    "    sumLnk_sq = 0\n",
    "    for k in range(n-1):\n",
    "        sumLnk_sq += L[-1, k]**2\n",
    "    L[-1, -1] = np.sqrt(A[-1, -1] - sumLnk_sq)\n",
    "    \n",
    "    return L"
   ]
  },
  {
   "cell_type": "markdown",
   "id": "8046fdc4",
   "metadata": {},
   "source": [
    "#### 1.3. LU Factorization"
   ]
  },
  {
   "cell_type": "code",
   "execution_count": 15,
   "id": "071b06ca",
   "metadata": {},
   "outputs": [],
   "source": [
    "def LU(A):\n",
    "    \"\"\"\n",
    "    Arguments:\n",
    "    - A [array] to be factorized, shape (n, n)\n",
    "    Return:\n",
    "    - L [array] Lower triangular matrix of the same shape as A\n",
    "    - U [array] Upper triangular matrix of the same shape as A\n",
    "    \"\"\"\n",
    "    \n",
    "    n = A.shape[0]\n",
    "    \n",
    "    #Initialize L and U as matrix of 0's\n",
    "    L = np.zeros((n, n))\n",
    "    U = np.zeros((n, n))\n",
    "    \n",
    "    #Set the diagonal entries of L as 1's\n",
    "    np.fill_diagonal(L, 1)\n",
    "    \n",
    "    #(1) Set u[0,0]\n",
    "    if A[0,0] == 0:\n",
    "        raise Exception(\"Impossible factorization\")\n",
    "    \n",
    "    #(2) 1st row of U and 1st column of L\n",
    "    U[0,:] = A[0,:]/L[0,0]\n",
    "    L[:,0] = A[:,0]/U[0,0]\n",
    "    \n",
    "    #(3)\n",
    "    for i in range(1, n-1):\n",
    "        \n",
    "        #(3.1) Diagonal entries of U\n",
    "        sumLik_Uki = 0\n",
    "        for k in range(i):\n",
    "            sumLik_Uki += L[i, k]*U[k, i]\n",
    "        U[i,i] = 1/L[i,i] * (A[i,i] - sumLik_Uki)\n",
    "        \n",
    "        if U[i,i] == 0:\n",
    "            raise Exception(\"Impossible factorization\")\n",
    "        \n",
    "        #(3.2) Other entries of U and L within the borders and not in diagonal\n",
    "        for j in range(i+1, n):\n",
    "            sumLik_Ukj = 0\n",
    "            sumLjk_Uki = 0\n",
    "            for k in range(i):\n",
    "                sumLik_Ukj += L[i, k]*U[k, j]\n",
    "                sumLjk_Uki += L[j, k]*U[k, i]\n",
    "            U[i, j] = 1/L[i,i] * (A[i, j] - sumLik_Ukj)\n",
    "            L[j, i] = 1/U[i,i] * (A[j, i] - sumLjk_Uki)\n",
    "        \n",
    "        #(4) U[n-1, n-1]\n",
    "        Ln1k_Ukn1 = np.array([])\n",
    "        for k in range(n-1):\n",
    "            Ln1k_Ukn1 = np.append(Ln1k_Ukn1, L[n-1, k]*U[k, n-1])\n",
    "        U[n-1, n-1] = 1/L[n-1, n-1] * (A[n-1, n-1] - Ln1k_Ukn1.sum())\n",
    "        \n",
    "    return L, U    "
   ]
  },
  {
   "cell_type": "markdown",
   "id": "e06c291f",
   "metadata": {},
   "source": [
    "#### 1.4. Crout Factorization"
   ]
  },
  {
   "cell_type": "code",
   "execution_count": 16,
   "id": "4d1f952a",
   "metadata": {},
   "outputs": [],
   "source": [
    "def Crout(A, solve = False):\n",
    "    \n",
    "    if solve:\n",
    "        if A.shape[0] == A.shape[1]:\n",
    "            raise Exception(\"The input matrix must be of shape (n, n+1) to be solved\")\n",
    "    \n",
    "    n = A.shape[0]\n",
    "    b = A[:, n]\n",
    "    A = A[:, :n]\n",
    "    \n",
    "    #------ Factorize --------\n",
    "    #Initialize\n",
    "    L = np.zeros((n,n))\n",
    "    U = np.zeros((n,n))\n",
    "    \n",
    "    #Set diagonal entries of U\n",
    "    np.fill_diagonal(U, 1)\n",
    "    \n",
    "    #(1) First element of L\n",
    "    L[0, 0] = A[0,0]\n",
    "    \n",
    "    #(2) First row of U\n",
    "    U[0, :] = A[0, :] / L[0,0]\n",
    "    \n",
    "    #(3) First column of L\n",
    "    L[:,0] = A[:, 0]\n",
    "    \n",
    "    \n",
    "    for i in range(1, n):\n",
    "        \n",
    "        #(4) Diagonal entries of L\n",
    "        sumLik_Uki = 0\n",
    "        for k in range(i):\n",
    "            sumLik_Uki += L[i, k]*U[k,i]\n",
    "            \n",
    "        L[i, i] = A[i, i] - sumLik_Uki\n",
    "        if (L[i, i] == 0):\n",
    "            raise Exception('Impossible factorization')\n",
    "        \n",
    "        #(5) Find entries above diagonal of U and below diagonal of L\n",
    "        for j in range(i+1, n):\n",
    "            sumLik_Ukj = 0\n",
    "            sumLjk_Uki = 0\n",
    "            for k in range(i):\n",
    "                sumLik_Ukj += L[i, k]*U[k, j]\n",
    "                sumLjk_Uki += L[j, k]*U[k, i]\n",
    "                \n",
    "            #(5.1) Entries above diagonal of U    \n",
    "            U[i, j] = 1/L[i,i] * (A[i, j] - sumLik_Ukj)\n",
    "            \n",
    "            #(5.2) Entries below diagonal of L\n",
    "            L[j, i] = 1/U[i,i] * (A[j, i] - sumLjk_Uki)\n",
    "        \n",
    "    #(6) The last entriy of L\n",
    "    sumLnk_Ukn = 0\n",
    "    for k in range(n-1):\n",
    "        sumLnk_Ukn += L[-1, k]*U[k, -1]\n",
    "    L[-1, -1] = A[-1, -1] - sumLnk_Ukn\n",
    "    \n",
    "    \n",
    "    #------Solve for X----------\n",
    "    if solve:\n",
    "        Z = np.zeros(n)\n",
    "        X = np.zeros(n)\n",
    "        \n",
    "        #(1) Find Z\n",
    "        Z[0] = b[0]/L[0,0]\n",
    "        \n",
    "        for i in range(1, n):\n",
    "            sumLij_Zj = 0\n",
    "            for j in range(i):\n",
    "                sumLij_Zj += L[i, j]*Z[j]\n",
    "            Z[i] = 1/L[i,i] * (b[i] - sumLij_Zj)\n",
    "        \n",
    "        \n",
    "        #(2) Find X\n",
    "        X[-1] = Z[-1]\n",
    "        \n",
    "        for i in range(n-1, -1, -1):\n",
    "            sumUij_Xj = 0\n",
    "            for j in range(i+1, n):\n",
    "                sumUij_Xj += U[i, j]*X[j]\n",
    "            X[i] = (Z[i] - sumUij_Xj)\n",
    "            #X[i] = Z[i] - U[i, i+1]*X[i+1]\n",
    "        \n",
    "        return X\n",
    "        \n",
    "    return L, U"
   ]
  },
  {
   "cell_type": "markdown",
   "id": "aa0031f0",
   "metadata": {},
   "source": [
    "#### Check functions"
   ]
  },
  {
   "cell_type": "code",
   "execution_count": 17,
   "id": "26b748bd",
   "metadata": {},
   "outputs": [],
   "source": [
    "C = np.array([[4, 1, 1, 1],\n",
    "              [1, 3, -1, 1],\n",
    "              [1, -1, 2, 0],\n",
    "              [1, 1, 0, 2]])\n",
    "\n",
    "LC, DC = LDLt(C)"
   ]
  },
  {
   "cell_type": "code",
   "execution_count": 18,
   "id": "f66bb1fd",
   "metadata": {},
   "outputs": [
    {
     "data": {
      "text/plain": [
       "array([[ True,  True,  True,  True],\n",
       "       [ True,  True,  True,  True],\n",
       "       [ True,  True,  True,  True],\n",
       "       [ True,  True,  True,  True]])"
      ]
     },
     "execution_count": 18,
     "metadata": {},
     "output_type": "execute_result"
    }
   ],
   "source": [
    "check_C = np.dot( np.dot(LC, DC), LC.T )\n",
    "np.isclose(check_C, C)"
   ]
  },
  {
   "cell_type": "markdown",
   "id": "f3355781",
   "metadata": {},
   "source": [
    "The LDLt fatorization produce the correct component matrices of A "
   ]
  },
  {
   "cell_type": "code",
   "execution_count": 19,
   "id": "cdb4c017",
   "metadata": {},
   "outputs": [
    {
     "data": {
      "text/plain": [
       "array([[ True,  True,  True,  True],\n",
       "       [ True,  True,  True,  True],\n",
       "       [ True,  True,  True,  True],\n",
       "       [ True,  True,  True,  True]])"
      ]
     },
     "execution_count": 19,
     "metadata": {},
     "output_type": "execute_result"
    }
   ],
   "source": [
    "LCc = Cholesky(C)\n",
    "\n",
    "np.isclose(C,\n",
    "           np.dot(LCc, LCc.T))"
   ]
  },
  {
   "cell_type": "markdown",
   "id": "a767a1ad",
   "metadata": {},
   "source": [
    "__Comment:__ The `Cholesky` factorization produces correct component matrices"
   ]
  },
  {
   "cell_type": "markdown",
   "id": "d36d9ee8",
   "metadata": {},
   "source": [
    "### 2. Solve systems of equations"
   ]
  },
  {
   "cell_type": "markdown",
   "id": "a30c22f6",
   "metadata": {},
   "source": [
    "#### 2.1 Solve by $LU$ factorization"
   ]
  },
  {
   "cell_type": "code",
   "execution_count": 20,
   "id": "f15bd764",
   "metadata": {},
   "outputs": [],
   "source": [
    "A = np.array([[1, 1, 0, 3],\n",
    "              [2, 1, -1, 1],\n",
    "              [3, -1, -1, 2],\n",
    "              [-1, 2, 3, -1]])\n",
    "b = np.array([8, 7, 14, -7])\n",
    "\n",
    "L, U = LU(A)"
   ]
  },
  {
   "cell_type": "code",
   "execution_count": 21,
   "id": "b3681a63",
   "metadata": {},
   "outputs": [],
   "source": [
    "n = A.shape[0]\n",
    "\n",
    "y = np.zeros(b.shape)\n",
    "X = np.zeros(b.shape)\n",
    "\n",
    "#Solve Ly = b\n",
    "y[0] = b[0]/L[0,0]\n",
    "\n",
    "for i in range(1, n):\n",
    "    sumLij_yj = 0\n",
    "    for j in range(i):\n",
    "        sumLij_yj += L[i, j]*y[j]\n",
    "    \n",
    "    y[i] = 1/L[i,i] * (b[i] - sumLij_yj)\n",
    "    \n",
    "\n",
    "#Solve UX = y\n",
    "X[-1] = y[-1]/U[-1,-1]\n",
    "\n",
    "for i in range(n-1, -1, -1):\n",
    "    sumUij_Xj = 0\n",
    "    for j in range(i+1, n):\n",
    "        sumUij_Xj += U[i, j]*X[j]\n",
    "    X[i] = 1/U[i,i] * (y[i] - sumUij_Xj)\n",
    "    "
   ]
  },
  {
   "cell_type": "code",
   "execution_count": 22,
   "id": "323162db",
   "metadata": {},
   "outputs": [
    {
     "data": {
      "text/plain": [
       "array([0., 0., 0., 0.])"
      ]
     },
     "execution_count": 22,
     "metadata": {},
     "output_type": "execute_result"
    }
   ],
   "source": [
    "np.dot(A, X) - b"
   ]
  },
  {
   "cell_type": "code",
   "execution_count": 23,
   "id": "e7ee0524",
   "metadata": {},
   "outputs": [
    {
     "data": {
      "text/plain": [
       "array([ 3., -1.,  0.,  2.])"
      ]
     },
     "execution_count": 23,
     "metadata": {},
     "output_type": "execute_result"
    }
   ],
   "source": [
    "X"
   ]
  },
  {
   "cell_type": "markdown",
   "id": "3ac7fbe4",
   "metadata": {},
   "source": [
    "#### 2.2 Solve by Crout method"
   ]
  },
  {
   "cell_type": "code",
   "execution_count": 24,
   "id": "9e7b949a",
   "metadata": {},
   "outputs": [],
   "source": [
    "A = np.array([[2, 1, 0, 3],\n",
    "              [1, 2, 1, -2],\n",
    "              [0, 2, 3, 0]])"
   ]
  },
  {
   "cell_type": "code",
   "execution_count": 25,
   "id": "839e5b7a",
   "metadata": {},
   "outputs": [],
   "source": [
    "Lcrout, Ucrout = Crout(A, solve = False)"
   ]
  },
  {
   "cell_type": "code",
   "execution_count": 26,
   "id": "521b17d1",
   "metadata": {},
   "outputs": [
    {
     "data": {
      "text/plain": [
       "array([ 3.6, -4.2,  2.8])"
      ]
     },
     "execution_count": 26,
     "metadata": {},
     "output_type": "execute_result"
    }
   ],
   "source": [
    "#Solve for X by Crout method\n",
    "Xcrout = Crout(A, solve = True)\n",
    "Xcrout"
   ]
  },
  {
   "cell_type": "code",
   "execution_count": 27,
   "id": "735d816c",
   "metadata": {},
   "outputs": [
    {
     "data": {
      "text/plain": [
       "array([0., 0., 0.])"
      ]
     },
     "execution_count": 27,
     "metadata": {},
     "output_type": "execute_result"
    }
   ],
   "source": [
    "#Plug-in to check if X is correct\n",
    "np.dot(A[:, :3], Xcrout) - A[:, -1]"
   ]
  },
  {
   "cell_type": "code",
   "execution_count": 28,
   "id": "62407fae",
   "metadata": {},
   "outputs": [
    {
     "data": {
      "text/plain": [
       "array([[0., 0., 0.],\n",
       "       [0., 0., 0.],\n",
       "       [0., 0., 0.]])"
      ]
     },
     "execution_count": 28,
     "metadata": {},
     "output_type": "execute_result"
    }
   ],
   "source": [
    "#Check decomposition\n",
    "np.dot(Lcrout, Ucrout) - A[:, :3]"
   ]
  },
  {
   "cell_type": "markdown",
   "id": "9839823a",
   "metadata": {},
   "source": [
    "---"
   ]
  },
  {
   "cell_type": "markdown",
   "id": "447aaddd",
   "metadata": {},
   "source": [
    "## Q3 - SVD "
   ]
  },
  {
   "cell_type": "code",
   "execution_count": 29,
   "id": "af9e21cf",
   "metadata": {},
   "outputs": [],
   "source": [
    "def SVD(A):\n",
    "    \n",
    "    m = A.shape[0]\n",
    "    n = A.shape[1]\n",
    "    \n",
    "    # (1) Find eigenvalues and normalized eigenvectors V\n",
    "    eigvl, V = np.linalg.eig(np.dot(A.T, A))\n",
    "    \n",
    "    #(2) Find S\n",
    "\n",
    "    k = len(eigvl)\n",
    "    S = np.zeros((m, n))\n",
    "\n",
    "    for i in range(k):\n",
    "        S[i,i] = np.sqrt(eigvl[i])\n",
    "    \n",
    "    #(3) Find U\n",
    "    U = np.zeros((m, m)) \n",
    "\n",
    "    for i in range(k):\n",
    "        U[:,i] = 1/S[i, i] * np.dot(A, V[:, i])\n",
    "    \n",
    "    return U, S, V.T"
   ]
  },
  {
   "cell_type": "code",
   "execution_count": 30,
   "id": "32a6572b",
   "metadata": {},
   "outputs": [],
   "source": [
    "A = np.array([[1, 0, 1],\n",
    "              [0, 1, 0],\n",
    "              [0, 1, 1],\n",
    "              [0, 1, 0],\n",
    "              [1, 1, 0]])"
   ]
  },
  {
   "cell_type": "code",
   "execution_count": 31,
   "id": "6552be5d",
   "metadata": {},
   "outputs": [],
   "source": [
    "U, S, V_transpose = SVD(A)"
   ]
  },
  {
   "cell_type": "code",
   "execution_count": 32,
   "id": "96305f95",
   "metadata": {},
   "outputs": [
    {
     "data": {
      "text/plain": [
       "array([[-4.08248290e-01, -8.16496581e-01, -4.08248290e-01],\n",
       "       [-7.07106781e-01,  5.12349117e-16,  7.07106781e-01],\n",
       "       [ 5.77350269e-01, -5.77350269e-01,  5.77350269e-01]])"
      ]
     },
     "execution_count": 32,
     "metadata": {},
     "output_type": "execute_result"
    }
   ],
   "source": [
    "V_transpose"
   ]
  },
  {
   "cell_type": "code",
   "execution_count": 33,
   "id": "82dd33ad",
   "metadata": {},
   "outputs": [
    {
     "data": {
      "text/plain": [
       "array([[-3.65148372e-01, -1.11022302e-16,  8.16496581e-01,\n",
       "         0.00000000e+00,  0.00000000e+00],\n",
       "       [-3.65148372e-01,  5.12349117e-16, -4.08248290e-01,\n",
       "         0.00000000e+00,  0.00000000e+00],\n",
       "       [-5.47722558e-01,  7.07106781e-01, -1.57009246e-16,\n",
       "         0.00000000e+00,  0.00000000e+00],\n",
       "       [-3.65148372e-01,  5.12349117e-16, -4.08248290e-01,\n",
       "         0.00000000e+00,  0.00000000e+00],\n",
       "       [-5.47722558e-01, -7.07106781e-01, -3.92523115e-16,\n",
       "         0.00000000e+00,  0.00000000e+00]])"
      ]
     },
     "execution_count": 33,
     "metadata": {},
     "output_type": "execute_result"
    }
   ],
   "source": [
    "U"
   ]
  },
  {
   "cell_type": "code",
   "execution_count": 34,
   "id": "cf03c129",
   "metadata": {},
   "outputs": [
    {
     "data": {
      "text/plain": [
       "array([[2.23606798, 0.        , 0.        ],\n",
       "       [0.        , 1.        , 0.        ],\n",
       "       [0.        , 0.        , 1.41421356],\n",
       "       [0.        , 0.        , 0.        ],\n",
       "       [0.        , 0.        , 0.        ]])"
      ]
     },
     "execution_count": 34,
     "metadata": {},
     "output_type": "execute_result"
    }
   ],
   "source": [
    "S"
   ]
  }
 ],
 "metadata": {
  "kernelspec": {
   "display_name": "Python 3 (ipykernel)",
   "language": "python",
   "name": "python3"
  },
  "language_info": {
   "codemirror_mode": {
    "name": "ipython",
    "version": 3
   },
   "file_extension": ".py",
   "mimetype": "text/x-python",
   "name": "python",
   "nbconvert_exporter": "python",
   "pygments_lexer": "ipython3",
   "version": "3.9.7"
  }
 },
 "nbformat": 4,
 "nbformat_minor": 5
}
