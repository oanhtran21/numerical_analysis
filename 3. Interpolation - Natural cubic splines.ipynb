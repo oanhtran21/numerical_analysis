{
 "cells": [
  {
   "cell_type": "markdown",
   "id": "5dbad3fa",
   "metadata": {},
   "source": [
    "# Assignment 3 - Interpolation\n",
    "\n",
    "## Overview\n",
    "\n",
    "Interpolate the given data in form of natural cubic spline\n",
    "\n",
    "- Method: Spline construction under constraints (general interpolation, continuity, smoothness, curvature, etc.)"
   ]
  },
  {
   "cell_type": "code",
   "execution_count": 1,
   "id": "29ac7b65",
   "metadata": {},
   "outputs": [],
   "source": [
    "import numpy as np\n",
    "import pandas as pd\n",
    "import matplotlib.pyplot as plt"
   ]
  },
  {
   "cell_type": "markdown",
   "id": "040b9ffb",
   "metadata": {},
   "source": [
    "---"
   ]
  },
  {
   "cell_type": "markdown",
   "id": "67f981e2",
   "metadata": {},
   "source": [
    "## Question 2"
   ]
  },
  {
   "cell_type": "markdown",
   "id": "668071c5",
   "metadata": {},
   "source": [
    "Given the following data"
   ]
  },
  {
   "cell_type": "code",
   "execution_count": 3,
   "id": "c356149d",
   "metadata": {},
   "outputs": [
    {
     "data": {
      "text/html": [
       "<div>\n",
       "<style scoped>\n",
       "    .dataframe tbody tr th:only-of-type {\n",
       "        vertical-align: middle;\n",
       "    }\n",
       "\n",
       "    .dataframe tbody tr th {\n",
       "        vertical-align: top;\n",
       "    }\n",
       "\n",
       "    .dataframe thead th {\n",
       "        text-align: right;\n",
       "    }\n",
       "</style>\n",
       "<table border=\"1\" class=\"dataframe\">\n",
       "  <thead>\n",
       "    <tr style=\"text-align: right;\">\n",
       "      <th></th>\n",
       "      <th>X</th>\n",
       "      <th>Y</th>\n",
       "    </tr>\n",
       "  </thead>\n",
       "  <tbody>\n",
       "    <tr>\n",
       "      <th>0</th>\n",
       "      <td>0</td>\n",
       "      <td>12</td>\n",
       "    </tr>\n",
       "    <tr>\n",
       "      <th>1</th>\n",
       "      <td>1</td>\n",
       "      <td>14</td>\n",
       "    </tr>\n",
       "    <tr>\n",
       "      <th>2</th>\n",
       "      <td>2</td>\n",
       "      <td>22</td>\n",
       "    </tr>\n",
       "    <tr>\n",
       "      <th>3</th>\n",
       "      <td>3</td>\n",
       "      <td>39</td>\n",
       "    </tr>\n",
       "    <tr>\n",
       "      <th>4</th>\n",
       "      <td>4</td>\n",
       "      <td>58</td>\n",
       "    </tr>\n",
       "    <tr>\n",
       "      <th>5</th>\n",
       "      <td>5</td>\n",
       "      <td>77</td>\n",
       "    </tr>\n",
       "  </tbody>\n",
       "</table>\n",
       "</div>"
      ],
      "text/plain": [
       "   X   Y\n",
       "0  0  12\n",
       "1  1  14\n",
       "2  2  22\n",
       "3  3  39\n",
       "4  4  58\n",
       "5  5  77"
      ]
     },
     "execution_count": 3,
     "metadata": {},
     "output_type": "execute_result"
    }
   ],
   "source": [
    "X = np.arange(6)\n",
    "Y = np.array([12, 14, 22, 39, 58, 77])\n",
    "data = pd.DataFrame({'X': X,\n",
    "                     'Y': Y})\n",
    "data"
   ]
  },
  {
   "cell_type": "code",
   "execution_count": 5,
   "id": "4805bcf2",
   "metadata": {},
   "outputs": [],
   "source": [
    "def coef_matrix(X, Y, print_func = True):\n",
    "    \"\"\"  \n",
    "    This function solves for the coefficients of piecewise natural cubic splines by Gaussian elimination method\n",
    "    \n",
    "    Arguments:\n",
    "    - X [numpy array] consisting of the basis points\n",
    "    - Y [numpy array] consisting of points as a function of coressponding X\n",
    "    - print_func [bool] whether to print the whole piece-wise cubic function\n",
    "    \n",
    "    Return:\n",
    "    - coef [numpy array] a matrix of coefficients of piece-wise cubic polynomials \n",
    "    \"\"\"\n",
    "    \n",
    "    #(I) Construct M\n",
    "    #Reshape X, Y\n",
    "    X = X.reshape(-1,)\n",
    "    Y = Y.reshape(-1,)\n",
    "    \n",
    "    #Number of polynomials - n\n",
    "    n = len(X) - 1\n",
    "    \n",
    "    M = np.array([])\n",
    "    \n",
    "    #By general interpolation requirement\n",
    "    for i in range(n):\n",
    "        zeros_head = np.zeros((4*i,))\n",
    "        mi = 1\n",
    "        zeros_tail = np.zeros((4*(n-i) - 1))\n",
    "        Mi = np.hstack([zeros_head,\n",
    "                        mi,\n",
    "                        zeros_tail])\n",
    "        M = np.append(M, Mi).reshape(-1, 4*n)\n",
    "    \n",
    "    \n",
    "    dXn = X[-1] - X[-2]\n",
    "    Mn = np.hstack([np.zeros((4*(n-1))),\n",
    "                    1, dXn, dXn**2, dXn**3])\n",
    "    M = np.append(M, Mn).reshape(-1, 4*n)\n",
    "    \n",
    "    #By continuity requirement\n",
    "    for i in range(1, n):\n",
    "        dXi = X[i] - X[i-1]\n",
    "        zeros_head = np.zeros((4*(i-1)))\n",
    "        mi = np.array([1, dXi, dXi**2, dXi**3, -1, 0, 0, 0])\n",
    "        zeros_tail = np.zeros((4*n - 4*(i-1) - 4*2))\n",
    "        Mi = np.hstack([zeros_head,\n",
    "                        mi,\n",
    "                        zeros_tail])\n",
    "        M = np.append(M, Mi).reshape(-1, 4*n)\n",
    "    \n",
    "    #By smoothness requirement\n",
    "    for i in range(1,n):\n",
    "        dXi = X[i] - X[i-1]\n",
    "        zeros_head = np.zeros((4*(i-1)))\n",
    "        mi = np.array([0, 1, 2*dXi, 3*dXi**2, 0, -1, 0, 0])\n",
    "        zeros_tail = np.zeros((4*n - 4*(i-1) - 4*2))\n",
    "        Mi = np.hstack([zeros_head,\n",
    "                        mi,\n",
    "                        zeros_tail])\n",
    "        M = np.append(M, Mi).reshape(-1, 4*n)\n",
    "    \n",
    "    #By curvature requirement\n",
    "    for i in range(1,n):\n",
    "        dXi = X[i] - X[i-1]\n",
    "        zeros_head = np.zeros((4*(i-1)))\n",
    "        mi = np.array([0, 0, 1, 3*dXi, 0, 0, -1, 0])\n",
    "        zeros_tail = np.zeros((4*n - 4*(i-1) - 4*2))\n",
    "        Mi = np.hstack([zeros_head,\n",
    "                        mi,\n",
    "                        zeros_tail])\n",
    "        M = np.append(M, Mi).reshape(-1, 4*n)\n",
    "    \n",
    "    #Requirements for stable first derivative\n",
    "    dX1 = X[1]-X[0]\n",
    "    dXn = X[-1] - X[-2]\n",
    "    M4n_2 = np.hstack([0, 0, 1, 3*dX1,\n",
    "                       np.zeros(4*(n-1))])\n",
    "    M4n_1 = np.hstack([np.zeros(4*(n-1)),\n",
    "                       0, 0, 1, 3*dXn])\n",
    "    M = np.append(M, [M4n_2, M4n_1]).reshape(-1, 4*n)\n",
    "    #print(M)\n",
    "    \n",
    "    \n",
    "    #-------------------------------------\n",
    "    #(II) Construct V\n",
    "    V = np.hstack([Y,\n",
    "                   np.zeros(4*n - (n+1))])\n",
    "    #print(V)\n",
    "    \n",
    "    \n",
    "    #-------------------------------------\n",
    "    #(III) Solve for parameters by Gaussian elimination method\n",
    "    M_inv = np.linalg.inv(M)\n",
    "    \n",
    "    coef = np.dot(M_inv, V).reshape(-1, 4)\n",
    "    \n",
    "    if print_func:\n",
    "        for i in range(n):\n",
    "            print(f\"P_{i}(X)\\t=\\t{coef[i, 0]:.2f}\\t+{coef[i, 1]:.2f}*(X-{X[i]:.2f})\\t+ {coef[i, 2]:.2f}(X-{X[i]:.2f})^2\\t+ {coef[i, 3]:.2f}(X-{X[i]:.2f})^3\\t for {X[i]:.2f} <= X < {X[i+1]:.2f}\")\n",
    "    \n",
    "    return coef"
   ]
  },
  {
   "cell_type": "code",
   "execution_count": 6,
   "id": "0f7628be",
   "metadata": {},
   "outputs": [
    {
     "name": "stdout",
     "output_type": "stream",
     "text": [
      "P_0(X)\t=\t12.00\t+-5.46*(X-0.00)\t+ 11.20(X-0.00)^2\t+ -3.73(X-0.00)^3\t for 0.00 <= X < 1.00\n",
      "P_1(X)\t=\t14.00\t+5.73*(X-1.00)\t+ 0.00(X-1.00)^2\t+ 2.27(X-1.00)^3\t for 1.00 <= X < 2.00\n",
      "P_2(X)\t=\t22.00\t+12.54*(X-2.00)\t+ 6.80(X-2.00)^2\t+ -2.34(X-2.00)^3\t for 2.00 <= X < 3.00\n",
      "P_3(X)\t=\t39.00\t+19.13*(X-3.00)\t+ -0.21(X-3.00)^2\t+ 0.09(X-3.00)^3\t for 3.00 <= X < 4.00\n",
      "P_4(X)\t=\t58.00\t+18.96*(X-4.00)\t+ 0.05(X-4.00)^2\t+ -0.02(X-4.00)^3\t for 4.00 <= X < 5.00\n"
     ]
    }
   ],
   "source": [
    "A = coef_matrix(X, Y)"
   ]
  },
  {
   "cell_type": "code",
   "execution_count": 7,
   "id": "bf6232d9",
   "metadata": {},
   "outputs": [],
   "source": [
    "def piecewise_cubic(X, X_base, coef_matrix):\n",
    "    \"\"\"\n",
    "    This function interpolates data based on the given base points and piecewise natural cubic splines\n",
    "    \n",
    "    Arguments:\n",
    "    - X [array] consisting of points X to be interpolated\n",
    "    - X_base [ascending sorted array] the base points used to construct the cubic polynomials\n",
    "    - coef_matrix [np array] a matrix consisting of coefficients of piecewise polynomials\n",
    "    Return:\n",
    "    - Y [array] the interpolated values given X and the polynomial functions\n",
    "    \"\"\"\n",
    "    \n",
    "    n = len(X_base) - 1\n",
    "    Y = np.array([])\n",
    "    for x in X:\n",
    "        for i in range(n):\n",
    "            if ((x<X_base[i+1]) & (x >= X_base[i])):\n",
    "                dx = x - X_base[i]\n",
    "                A = coef_matrix[i]\n",
    "                y = np.dot(A, np.hstack([1, dx, dx**2, dx**3]))\n",
    "            elif x == X_base[-1]:\n",
    "                dx = x - X_base[-2]\n",
    "                y = np.dot(coef_matrix[-1], np.hstack([1, dx, dx**2, dx**3]) )\n",
    "        Y = np.append(Y, y)\n",
    "    return Y\n",
    "            "
   ]
  },
  {
   "cell_type": "code",
   "execution_count": 8,
   "id": "d91fed7f",
   "metadata": {},
   "outputs": [
    {
     "data": {
      "text/plain": [
       "array([39., 58., 77.])"
      ]
     },
     "execution_count": 8,
     "metadata": {},
     "output_type": "execute_result"
    }
   ],
   "source": [
    "piecewise_cubic([3, 4, 5], X, coef_matrix(X,Y, print_func = False))"
   ]
  },
  {
   "cell_type": "markdown",
   "id": "023bceef",
   "metadata": {},
   "source": [
    "## Question 3\n",
    "\n",
    "Interpolate data using cubic splines for the _Witch of Agnesi_ function $\\large y = \\frac{1}{4x^2 + 1}$\n",
    "\n",
    "#### (1) The base points are obtained by dividing the interval for the independent variable $[-5, 5]$ into 20 intervals for equal length"
   ]
  },
  {
   "cell_type": "code",
   "execution_count": 7,
   "id": "ccf302f5",
   "metadata": {},
   "outputs": [
    {
     "data": {
      "text/plain": [
       "array([-5.        , -4.47368421, -3.94736842, -3.42105263, -2.89473684,\n",
       "       -2.36842105, -1.84210526, -1.31578947, -0.78947368, -0.26315789,\n",
       "        0.26315789,  0.78947368,  1.31578947,  1.84210526,  2.36842105,\n",
       "        2.89473684,  3.42105263,  3.94736842,  4.47368421,  5.        ])"
      ]
     },
     "execution_count": 7,
     "metadata": {},
     "output_type": "execute_result"
    }
   ],
   "source": [
    "X_base = np.linspace(-5, 5, 20)\n",
    "X_base"
   ]
  },
  {
   "cell_type": "code",
   "execution_count": 8,
   "id": "f7ee137d",
   "metadata": {},
   "outputs": [
    {
     "data": {
      "text/plain": [
       "array([0.00990099, 0.01233724, 0.01579109, 0.0209142 , 0.02897039,\n",
       "       0.04266635, 0.06861813, 0.12617966, 0.28628073, 0.78308026,\n",
       "       0.78308026, 0.28628073, 0.12617966, 0.06861813, 0.04266635,\n",
       "       0.02897039, 0.0209142 , 0.01579109, 0.01233724, 0.00990099])"
      ]
     },
     "execution_count": 8,
     "metadata": {},
     "output_type": "execute_result"
    }
   ],
   "source": [
    "Y_base = 1/(4*(X_base**2) + 1)\n",
    "Y_base"
   ]
  },
  {
   "cell_type": "markdown",
   "id": "3097c879",
   "metadata": {},
   "source": [
    "Calculating the piecewise cubic spline"
   ]
  },
  {
   "cell_type": "code",
   "execution_count": 9,
   "id": "c4a7acd0",
   "metadata": {},
   "outputs": [
    {
     "name": "stdout",
     "output_type": "stream",
     "text": [
      "P_0(X)\t=\t0.01\t+0.00*(X--5.00)\t+ 0.01(X--5.00)^2\t+ -0.00(X--5.00)^3\t for -5.00 <= X < -4.47\n",
      "P_1(X)\t=\t0.01\t+0.01*(X--4.47)\t+ -0.00(X--4.47)^2\t+ 0.00(X--4.47)^3\t for -4.47 <= X < -3.95\n",
      "P_2(X)\t=\t0.02\t+0.01*(X--3.95)\t+ 0.00(X--3.95)^2\t+ 0.00(X--3.95)^3\t for -3.95 <= X < -3.42\n",
      "P_3(X)\t=\t0.02\t+0.01*(X--3.42)\t+ 0.00(X--3.42)^2\t+ 0.01(X--3.42)^3\t for -3.42 <= X < -2.89\n",
      "P_4(X)\t=\t0.03\t+0.02*(X--2.89)\t+ 0.01(X--2.89)^2\t+ -0.01(X--2.89)^3\t for -2.89 <= X < -2.37\n",
      "P_5(X)\t=\t0.04\t+0.03*(X--2.37)\t+ 0.00(X--2.37)^2\t+ 0.06(X--2.37)^3\t for -2.37 <= X < -1.84\n",
      "P_6(X)\t=\t0.07\t+0.09*(X--1.84)\t+ 0.10(X--1.84)^2\t+ -0.10(X--1.84)^3\t for -1.84 <= X < -1.32\n",
      "P_7(X)\t=\t0.13\t+0.11*(X--1.32)\t+ -0.06(X--1.32)^2\t+ 0.84(X--1.32)^3\t for -1.32 <= X < -0.79\n",
      "P_8(X)\t=\t0.29\t+0.74*(X--0.79)\t+ 1.26(X--0.79)^2\t+ -1.64(X--0.79)^3\t for -0.79 <= X < -0.26\n",
      "P_9(X)\t=\t0.78\t+0.70*(X--0.26)\t+ -1.33(X--0.26)^2\t+ 0.00(X--0.26)^3\t for -0.26 <= X < 0.26\n",
      "P_10(X)\t=\t0.78\t+-0.70*(X-0.26)\t+ -1.33(X-0.26)^2\t+ 1.64(X-0.26)^3\t for 0.26 <= X < 0.79\n",
      "P_11(X)\t=\t0.29\t+-0.74*(X-0.79)\t+ 1.26(X-0.79)^2\t+ -0.84(X-0.79)^3\t for 0.79 <= X < 1.32\n",
      "P_12(X)\t=\t0.13\t+-0.11*(X-1.32)\t+ -0.06(X-1.32)^2\t+ 0.10(X-1.32)^3\t for 1.32 <= X < 1.84\n",
      "P_13(X)\t=\t0.07\t+-0.09*(X-1.84)\t+ 0.10(X-1.84)^2\t+ -0.06(X-1.84)^3\t for 1.84 <= X < 2.37\n",
      "P_14(X)\t=\t0.04\t+-0.03*(X-2.37)\t+ 0.00(X-2.37)^2\t+ 0.01(X-2.37)^3\t for 2.37 <= X < 2.89\n",
      "P_15(X)\t=\t0.03\t+-0.02*(X-2.89)\t+ 0.01(X-2.89)^2\t+ -0.01(X-2.89)^3\t for 2.89 <= X < 3.42\n",
      "P_16(X)\t=\t0.02\t+-0.01*(X-3.42)\t+ 0.00(X-3.42)^2\t+ -0.00(X-3.42)^3\t for 3.42 <= X < 3.95\n",
      "P_17(X)\t=\t0.02\t+-0.01*(X-3.95)\t+ 0.00(X-3.95)^2\t+ -0.00(X-3.95)^3\t for 3.95 <= X < 4.47\n",
      "P_18(X)\t=\t0.01\t+-0.01*(X-4.47)\t+ 0.00(X-4.47)^2\t+ -0.00(X-4.47)^3\t for 4.47 <= X < 5.00\n"
     ]
    },
    {
     "data": {
      "text/plain": [
       "(19, 4)"
      ]
     },
     "execution_count": 9,
     "metadata": {},
     "output_type": "execute_result"
    }
   ],
   "source": [
    "A = coef_matrix(X_base, Y_base, print_func = True)\n",
    "A.shape"
   ]
  },
  {
   "cell_type": "markdown",
   "id": "83e5b5dd",
   "metadata": {},
   "source": [
    "#### (2) Plot the original function along with the splines"
   ]
  },
  {
   "cell_type": "markdown",
   "id": "63cbaa72",
   "metadata": {},
   "source": [
    "The cubic splines"
   ]
  },
  {
   "cell_type": "code",
   "execution_count": 10,
   "id": "0180032b",
   "metadata": {},
   "outputs": [],
   "source": [
    "X = np.linspace(-5, 5, 100)\n",
    "Y = piecewise_cubic(X, X_base, A)"
   ]
  },
  {
   "cell_type": "code",
   "execution_count": 11,
   "id": "16074e8e",
   "metadata": {},
   "outputs": [
    {
     "data": {
      "image/png": "[encoded data removed]",
      "text/plain": [
       "<Figure size 720x432 with 1 Axes>"
      ]
     },
     "metadata": {
      "needs_background": "light"
     },
     "output_type": "display_data"
    }
   ],
   "source": [
    "fig = plt.figure(figsize = (10, 6))\n",
    "\n",
    "ax = fig.add_subplot(1,1,1)\n",
    "ax.set_title('Cubic Spline', size = 14)\n",
    "ax.set_xlabel('X')\n",
    "\n",
    "#Original function\n",
    "ax.plot(X_base, Y_base, color = '#E37383', label = 'Original function', linestyle = '--', marker = 'o', lw = 2)\n",
    "\n",
    "#Cubic spline\n",
    "ax.plot(X, Y, color = '#7393B3' , label = 'Piecewise Cubic Spline')\n",
    "ax.legend()\n",
    "ax.grid(alpha = 0.4)\n",
    "\n",
    "plt.show()"
   ]
  }
 ],
 "metadata": {
  "kernelspec": {
   "display_name": "Python 3 (ipykernel)",
   "language": "python",
   "name": "python3"
  },
  "language_info": {
   "codemirror_mode": {
    "name": "ipython",
    "version": 3
   },
   "file_extension": ".py",
   "mimetype": "text/x-python",
   "name": "python",
   "nbconvert_exporter": "python",
   "pygments_lexer": "ipython3",
   "version": "3.9.7"
  }
 },
 "nbformat": 4,
 "nbformat_minor": 5
}
